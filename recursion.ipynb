{
 "cells": [
  {
   "cell_type": "code",
   "execution_count": 2,
   "metadata": {},
   "outputs": [],
   "source": [
    "names = [\n",
    "    \"Adam\",\n",
    "    [\n",
    "        \"Bob\",\n",
    "        [\n",
    "            \"Chet\",\n",
    "            \"Cat\",\n",
    "        ],\n",
    "        \"Barb\",\n",
    "        \"Bert\"\n",
    "    ],\n",
    "    \"Alex\",\n",
    "    [\n",
    "        \"Bea\",\n",
    "        \"Bill\"\n",
    "    ],\n",
    "    \"Ann\"\n",
    "]"
   ]
  },
  {
   "cell_type": "code",
   "execution_count": 5,
   "metadata": {},
   "outputs": [
    {
     "data": {
      "text/plain": [
       "10"
      ]
     },
     "execution_count": 5,
     "metadata": {},
     "output_type": "execute_result"
    }
   ],
   "source": [
    "def count_leaf_items(item_list):\n",
    "    \"\"\"Recursively counts and returns the\n",
    "       number of leaf items in a (potentially\n",
    "       nested) list.\n",
    "    \"\"\"\n",
    "    count = 0\n",
    "    for item in item_list:\n",
    "        if isinstance(item, list):\n",
    "            count += count_leaf_items(item)\n",
    "        else:\n",
    "            count += 1\n",
    "\n",
    "    return count\n",
    "\n",
    "count_leaf_items(names)"
   ]
  },
  {
   "cell_type": "code",
   "execution_count": 7,
   "metadata": {},
   "outputs": [
    {
     "data": {
      "text/html": [
       "<div>\n",
       "<style scoped>\n",
       "    .dataframe tbody tr th:only-of-type {\n",
       "        vertical-align: middle;\n",
       "    }\n",
       "\n",
       "    .dataframe tbody tr th {\n",
       "        vertical-align: top;\n",
       "    }\n",
       "\n",
       "    .dataframe thead th {\n",
       "        text-align: right;\n",
       "    }\n",
       "</style>\n",
       "<table border=\"1\" class=\"dataframe\">\n",
       "  <thead>\n",
       "    <tr style=\"text-align: right;\">\n",
       "      <th></th>\n",
       "      <th>name</th>\n",
       "      <th>ID</th>\n",
       "      <th>superior_ID</th>\n",
       "    </tr>\n",
       "  </thead>\n",
       "  <tbody>\n",
       "    <tr>\n",
       "      <th>0</th>\n",
       "      <td>CEO</td>\n",
       "      <td>111</td>\n",
       "      <td></td>\n",
       "    </tr>\n",
       "    <tr>\n",
       "      <th>1</th>\n",
       "      <td>CPO</td>\n",
       "      <td>222</td>\n",
       "      <td>111</td>\n",
       "    </tr>\n",
       "    <tr>\n",
       "      <th>2</th>\n",
       "      <td>CTO</td>\n",
       "      <td>221</td>\n",
       "      <td>111</td>\n",
       "    </tr>\n",
       "    <tr>\n",
       "      <th>3</th>\n",
       "      <td>Engineering</td>\n",
       "      <td>223</td>\n",
       "      <td>221</td>\n",
       "    </tr>\n",
       "    <tr>\n",
       "      <th>4</th>\n",
       "      <td>PM</td>\n",
       "      <td>224</td>\n",
       "      <td>222</td>\n",
       "    </tr>\n",
       "    <tr>\n",
       "      <th>5</th>\n",
       "      <td>Backend_Dev</td>\n",
       "      <td>228</td>\n",
       "      <td>223</td>\n",
       "    </tr>\n",
       "    <tr>\n",
       "      <th>6</th>\n",
       "      <td>COO</td>\n",
       "      <td>220</td>\n",
       "      <td>111</td>\n",
       "    </tr>\n",
       "  </tbody>\n",
       "</table>\n",
       "</div>"
      ],
      "text/plain": [
       "          name   ID superior_ID\n",
       "0          CEO  111            \n",
       "1          CPO  222         111\n",
       "2          CTO  221         111\n",
       "3  Engineering  223         221\n",
       "4           PM  224         222\n",
       "5  Backend_Dev  228         223\n",
       "6          COO  220         111"
      ]
     },
     "execution_count": 7,
     "metadata": {},
     "output_type": "execute_result"
    }
   ],
   "source": [
    "import pandas as pd\n",
    "\n",
    "df = pd.DataFrame(\n",
    "    {\n",
    "        \"name\": {\n",
    "            0: \"CEO\",\n",
    "            1: \"CPO\",\n",
    "            2: \"CTO\",\n",
    "            3: \"Engineering\",\n",
    "            4: \"PM\",\n",
    "            5: \"Backend_Dev\",\n",
    "            6: \"COO\",\n",
    "        },\n",
    "        \"ID\": {0: 111, 1: 222, 2: 221, 3: 223, 4: 224, 5: 228, 6: 220},\n",
    "        \"superior_ID\": {0: \"\", 1: 111, 2: 111, 3: 221, 4: 222, 5: 223, 6: 111},\n",
    "    }\n",
    ")\n",
    "\n",
    "df"
   ]
  },
  {
   "cell_type": "code",
   "execution_count": 12,
   "metadata": {},
   "outputs": [
    {
     "name": "stdout",
     "output_type": "stream",
     "text": [
      "3\n"
     ]
    }
   ],
   "source": [
    "# Setup\n",
    "df = df.sort_values(by=[\"superior_ID\", \"ID\"]).reset_index(drop=True)\n",
    "highest_ID = df.loc[df[\"superior_ID\"] == \"\", \"ID\"].values[0]\n",
    "number_of_paths = df[\"superior_ID\"].value_counts()[highest_ID]\n",
    "paths = {i + 1: [] for i in range(number_of_paths)}\n",
    "\n",
    "# Iterate to find all paths (111/222/224 is one path)\n",
    "for i, row in df.iterrows():\n",
    "    if row[\"superior_ID\"] == highest_ID:\n",
    "        paths[i + 1].append(highest_ID)\n",
    "        paths[i + 1].append(row[\"ID\"])\n",
    "        continue\n",
    "    for path in paths.values():\n",
    "        if row[\"superior_ID\"] in path:\n",
    "            path.append(row[\"ID\"])\n",
    "\n",
    "# Create new df concatenating found paths as rows\n",
    "new_df = pd.DataFrame()\n",
    "for path in paths.values():\n",
    "    s = pd.Series(path)\n",
    "    new_df = pd.concat([new_df, s], axis=1)\n",
    "\n",
    "# Transpose and cleanup\n",
    "new_df = (\n",
    "    new_df\n",
    "    .T\n",
    "    .pipe(lambda x: x.iloc[x.isna().sum(axis=1).mul(-1).argsort()])\n",
    "    .fillna(999)\n",
    "    .astype(int)\n",
    "    .pipe(lambda x: x.set_axis([f\"level_{i+1}\" for i in x.columns], axis=\"columns\"))\n",
    "    .replace(999, \"\")\n",
    "    .reset_index(drop=True)\n",
    ")\n",
    "\n",
    "#new_df"
   ]
  },
  {
   "cell_type": "code",
   "execution_count": 16,
   "metadata": {},
   "outputs": [
    {
     "data": {
      "text/plain": [
       "6"
      ]
     },
     "execution_count": 16,
     "metadata": {},
     "output_type": "execute_result"
    }
   ],
   "source": [
    "def function(n):\n",
    "    if n <= 1:\n",
    "        return 1\n",
    "    else:\n",
    "        return n * function(n-1)\n",
    "\n",
    "function(3)"
   ]
  },
  {
   "cell_type": "code",
   "execution_count": 17,
   "metadata": {},
   "outputs": [],
   "source": [
    "names = [\n",
    "    \"Adam\",\n",
    "    [\n",
    "        \"Bob\",\n",
    "        [\n",
    "            \"Chet\",\n",
    "            \"Cat\",\n",
    "        ],\n",
    "        \"Barb\",\n",
    "        \"Bert\"\n",
    "    ],\n",
    "    \"Alex\",\n",
    "    [\n",
    "        \"Bea\",\n",
    "        \"Bill\"\n",
    "    ],\n",
    "    \"Ann\"\n",
    "]"
   ]
  },
  {
   "cell_type": "code",
   "execution_count": 33,
   "metadata": {},
   "outputs": [
    {
     "name": "stdout",
     "output_type": "stream",
     "text": [
      "0 Adam\n",
      "1 ['Bob', ['Chet', 'Cat'], 'Barb', 'Bert']\n",
      "2 Alex\n",
      "3 ['Bea', 'Bill']\n",
      "4 Ann\n"
     ]
    }
   ],
   "source": [
    "names = ['Adam', ['Bob', ['Chet', 'Cat'], 'Barb', 'Bert'], 'Alex', ['Bea', 'Bill'], 'Ann']\n",
    "\n",
    "for index, item in enumerate(names):\n",
    "    print(index, item)"
   ]
  },
  {
   "cell_type": "code",
   "execution_count": 40,
   "metadata": {},
   "outputs": [
    {
     "name": "stdout",
     "output_type": "stream",
     "text": [
      "Counted leaf item \"Adam\"\n",
      "Encountered sublist \"['Bob', ['Chet', 'Cat'], 'Barb', 'Bert']\"\n",
      "Counted leaf item \"Bob\"\n",
      "Encountered sublist \"['Chet', 'Cat']\"\n",
      "Counted leaf item \"Chet\"\n",
      "Counted leaf item \"Cat\"\n",
      "Counted leaf item \"Barb\"\n",
      "Counted leaf item \"Bert\"\n",
      "Counted leaf item \"Alex\"\n",
      "Encountered sublist \"['Bea', 'Bill']\"\n",
      "Counted leaf item \"Bea\"\n",
      "Counted leaf item \"Bill\"\n",
      "Counted leaf item \"Ann\"\n"
     ]
    },
    {
     "data": {
      "text/plain": [
       "10"
      ]
     },
     "execution_count": 40,
     "metadata": {},
     "output_type": "execute_result"
    }
   ],
   "source": [
    "def count_leaf_items(items):\n",
    "    count = 0\n",
    "    for item in items:\n",
    "        if isinstance(item, list):\n",
    "            print(f\"Encountered sublist \\\"{item}\\\"\")\n",
    "            count += count_leaf_items(item)\n",
    "        else:\n",
    "            print(f\"Counted leaf item \\\"{item}\\\"\")\n",
    "            count += 1\n",
    "\n",
    "\n",
    "    return count\n",
    "\n",
    "count = count_leaf_items(names)\n",
    "\n",
    "count"
   ]
  },
  {
   "cell_type": "code",
   "execution_count": 50,
   "metadata": {},
   "outputs": [
    {
     "data": {
      "text/plain": [
       "dict_items([(1, {2: {3: 4, 5: 6}, 3: {4: 5, 6: 7}}), (2, {3: {4: 5}, 4: {6: 7}})])"
      ]
     },
     "execution_count": 50,
     "metadata": {},
     "output_type": "execute_result"
    }
   ],
   "source": [
    "mydict = {1: {2: {3: 4, 5: 6}, 3: {4: 5, 6: 7}}, 2: {3: {4: 5}, 4: {6: 7}}}\n",
    "\n",
    "mydict.items()"
   ]
  },
  {
   "cell_type": "code",
   "execution_count": null,
   "metadata": {},
   "outputs": [],
   "source": [
    "def unpack(input:dict):\n",
    "    for k, v in input.items():\n",
    "        if isinstance(v, dict):\n",
    "            print(f'Encountered dictionary \"{k} : {v}\"')\n",
    "            unpack(v)\n",
    "        else:\n",
    "            print(k,\":\", v)\n",
    "\n",
    "unpack(mydict)"
   ]
  },
  {
   "cell_type": "code",
   "execution_count": null,
   "metadata": {},
   "outputs": [],
   "source": [
    "# Python3 code to demonstrate working of\n",
    "# Extract values of Particular Key in Nested Values\n",
    "# Using list comprehension\n",
    "\n",
    "# initializing dictionary\n",
    "test_dict = {'Gfg' : {\"a\" : 7, \"b\" : 9, \"c\" : 12},\n",
    "\t\t\t'is' : {\"a\" : 15, \"b\" : 19, \"c\" : 20},\n",
    "\t\t\t'best' :{\"a\" : 5, \"b\" : 10, \"c\" : 2}}\n",
    "\n",
    "# printing original dictionary\n",
    "print(\"The original dictionary is : \" + str(test_dict))\n",
    "\n",
    "# initializing key\n",
    "temp = \"b\"\n",
    "\n",
    "# using item() to extract key value pair as whole\n",
    "#res = [val[temp] for key, val in test_dict.items() if temp in val]\n",
    "res = []\n",
    "for key, val in test_dict.items():\n",
    "    print(key,val, val[temp])\n",
    "    if temp in val:\n",
    "        res.append(val[temp])\n",
    "\n",
    "# printing result\n",
    "print(\"The extracted values : \" + str(res))\n"
   ]
  },
  {
   "cell_type": "code",
   "execution_count": 17,
   "metadata": {},
   "outputs": [],
   "source": [
    "tree = {\n",
    "    'a' : {'parent' : 'root', 'size' : 94269, 'e' : {'parent' : 'a', 'size' : 584}},\n",
    "    'd' : {'parent' : 'root', 'size' : 24933642}\n",
    "}"
   ]
  },
  {
   "cell_type": "code",
   "execution_count": 19,
   "metadata": {},
   "outputs": [
    {
     "name": "stdout",
     "output_type": "stream",
     "text": [
      "found a : {'parent': 'root', 'size': 94269, 'e': {'parent': 'a', 'size': 584}}\n",
      "items parent : root\n",
      "items size : 94269\n",
      "found e : {'parent': 'a', 'size': 584}\n",
      "items parent : a\n",
      "items size : 584\n",
      "found d : {'parent': 'root', 'size': 24933642}\n",
      "items parent : root\n",
      "items size : 24933642\n"
     ]
    }
   ],
   "source": [
    "def unpack(key, dictionary):\n",
    "    for key, val in dictionary.items():\n",
    "        if isinstance(val, dict):\n",
    "            print(f'found {key} : {val}')\n",
    "            unpack('root',val)\n",
    "        else:\n",
    "            print(f'items {key} : {val}')\n",
    "    \n",
    "unpack('root', tree)"
   ]
  },
  {
   "cell_type": "code",
   "execution_count": 37,
   "metadata": {},
   "outputs": [
    {
     "data": {
      "text/plain": [
       "{1: 'level 1',\n",
       " 2: 'level 1',\n",
       " 3: {21: 'level 2',\n",
       "  22: 'level 2',\n",
       "  23: {31: 'level 3', 32: 'level 3', 33: 'level 3'}}}"
      ]
     },
     "execution_count": 37,
     "metadata": {},
     "output_type": "execute_result"
    }
   ],
   "source": [
    "my_directory = {}\n",
    "my_directory[1] = 'level 1'\n",
    "my_directory[2] = 'level 1'\n",
    "my_directory[3] = {21 : 'level 2'}\n",
    "#my_directory[3] = {22 : 'level 2'} # overwrites entry\n",
    "my_directory[3][22] = 'level 2'\n",
    "my_directory[3][23] = {31 : 'level 3'}\n",
    "my_directory[3][23][32] = 'level 3'\n",
    "\n",
    "\n",
    "my_directory\n",
    "#my_directory[3]\n",
    "#my_directory[3][21]\n",
    "#for k, v in my_directory.items():\n",
    "#    print(k, v)\n",
    "\n",
    "level1 = my_directory.get(3)\n",
    "level2 = level1.get(23)\n",
    "level2[33] = 'level 3'\n",
    "level2\n",
    "my_directory"
   ]
  }
 ],
 "metadata": {
  "kernelspec": {
   "display_name": "base",
   "language": "python",
   "name": "python3"
  },
  "language_info": {
   "codemirror_mode": {
    "name": "ipython",
    "version": 3
   },
   "file_extension": ".py",
   "mimetype": "text/x-python",
   "name": "python",
   "nbconvert_exporter": "python",
   "pygments_lexer": "ipython3",
   "version": "3.8.15 (default, Nov 10 2022, 13:17:42) \n[Clang 14.0.6 ]"
  },
  "orig_nbformat": 4,
  "vscode": {
   "interpreter": {
    "hash": "40d3a090f54c6569ab1632332b64b2c03c39dcf918b08424e98f38b5ae0af88f"
   }
  }
 },
 "nbformat": 4,
 "nbformat_minor": 2
}
